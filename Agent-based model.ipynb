{
 "cells": [
  {
   "cell_type": "markdown",
   "metadata": {},
   "source": [
    "Test"
   ]
  },
  {
   "cell_type": "code",
   "execution_count": 1,
   "metadata": {},
   "outputs": [],
   "source": [
    "import numpy as np\n",
    "\n",
    "assert np.array([1,2,3])@np.array([1,2,3]) == 14, 'Math is not mathing'"
   ]
  },
  {
   "cell_type": "code",
   "execution_count": 2,
   "metadata": {},
   "outputs": [
    {
     "name": "stdout",
     "output_type": "stream",
     "text": [
      "hallo wereld\n"
     ]
    }
   ],
   "source": [
    "print(\"hallo wereld\")"
   ]
  },
  {
   "cell_type": "code",
   "execution_count": 4,
   "metadata": {},
   "outputs": [
    {
     "name": "stderr",
     "output_type": "stream",
     "text": [
      "c:\\Users\\Alvin\\miniconda3\\Lib\\site-packages\\tqdm\\auto.py:21: TqdmWarning: IProgress not found. Please update jupyter and ipywidgets. See https://ipywidgets.readthedocs.io/en/stable/user_install.html\n",
      "  from .autonotebook import tqdm as notebook_tqdm\n"
     ]
    }
   ],
   "source": [
    "from mesa import Agent\n",
    "from mesa import Model"
   ]
  },
  {
   "cell_type": "code",
   "execution_count": 5,
   "metadata": {},
   "outputs": [],
   "source": [
    "#Tutorial mesa:\n",
    "#   https://mesa.readthedocs.io/stable/tutorials/intro_tutorial.html\n",
    "\n",
    "# Onderstaande is niet echt een goed model. Is meer gebruikt om Mesa te leren begrijpen en te kijken wat mogelijk is. \n",
    "# House_Model is beter, aangezien het een meer afgebakend onderwerp is en meer een agent based model is (Gebruikt verschillende agents die interactie hebben met elkaar)\n",
    "\n",
    "class FED_Agent(Agent):\n",
    "    \"\"\"Agent that models the FED (Central bank of US)\"\"\"\n",
    "\n",
    "    def __init__(self, model):\n",
    "        super().__init__(model)\n",
    "        self.interest_rate = 4.75 #current\n",
    "\n",
    "    #test print uit tutorial\n",
    "    def print_func(self):\n",
    "        print(f\"The interest rate = {str(self.interest_rate)}. ID = {str(self.unique_id)}.\")\n",
    "\n",
    "class Bank_Agent(Agent):\n",
    "    \"\"\"Agent that models the banks\"\"\"\n",
    "    def __init__(self, model):\n",
    "        super().__init__(model)\n",
    "        self.money_in_banks = 100 #in trillions oid.\n",
    "        self.profit_precentage = 0 \n",
    "\n",
    "    def print_money_in_bank(self):\n",
    "        print(f\"Money in Bank is: {self.money_in_banks}\")\n",
    "\n",
    "    def print_profits(self):\n",
    "        print(f\"Profit is: {self.profit_precentage}\")\n",
    "\n",
    "    def change_profits(self, num):\n",
    "        self.profit_precentage = num\n",
    "\n",
    "class Energy_Sector_Agent(Agent):\n",
    "    \"\"\"Agent that models the energy sector\"\"\"\n",
    "    def __init__(self, model):\n",
    "        super().__init__(model)\n",
    "        self.change_in_energy_price = 0\n",
    "\n",
    "class Real_Estat_Agent(Agent):\n",
    "    def __init__(self, model, avarege_cost_house = 250000, mortage_rate = 4.75, new_houses = 0, house_buyers = 100):\n",
    "        super().__init__(model)\n",
    "        self.avarege_cost_house = avarege_cost_house\n",
    "        self.mortage_rate = mortage_rate\n",
    "        self.avarege_cost_mortage = mortage_rate / 100 * avarege_cost_house\n",
    "        self.new_houses = new_houses\n",
    "        self.house_buyers = house_buyers\n",
    "\n",
    "    def print_cost_house(self):\n",
    "        print(f\"cost of house = {self.avarege_cost_house}\")\n",
    "\n",
    "    def step(self, interest_rate):\n",
    "        #zet stap door alleen te kijken naar interest rate en op basis daarvan hoeveelheid nieuwe huizen gebouwd.\n",
    "        if interest_rate <= 0:\n",
    "            self.new_houses = 110 #interest rate van 0 -> goedkoop lenen, dus huizen bouwen met geleend geld is goedkoper dus meer huizen gebouwd dan vraag naar huizen is.\n",
    "        else:\n",
    "            self.new_houses = 110 - (interest_rate * 3) # higher interest rate = more costs lending = more costs houses = less houses build\n",
    "            #interest rate * 3 is op weinig gebasseerd\n",
    "        shortage_houses = int(self.house_buyers - self.new_houses)\n",
    "        self.avarege_cost_house += 100 * shortage_houses\n",
    "\n",
    "        \n",
    "class Model1(Model):\n",
    "    \"\"\"Model for attempt 1.\"\"\"\n",
    "\n",
    "    def __init__(self, n, seed=None):\n",
    "        super().__init__(seed=seed)\n",
    "        self.num_agents = n\n",
    "\n",
    "        FED_Agent.create_agents(model = self, n = 1)\n",
    "        Bank_Agent.create_agents(model = self, n = 1)\n",
    "        Energy_Sector_Agent.create_agents(model = self, n = 1)\n",
    "        Real_Estat_Agent.create_agents(model = self, n = 1)\n",
    "\n",
    "    def house_market_step(self):\n",
    "        #ga 1 stap verder in model voor alleen house market\n",
    "\n",
    "        REA = self.agents.select(agent_type = Real_Estat_Agent)\n",
    "        REA.do(\"step\", 3)\n",
    "        REA.do(\"print_cost_house\")\n",
    "\n",
    "        #voor pakken interest rate uit FED\n",
    "\n",
    "        #FED = self.agents.select(agent_type = FED_Agent)\n",
    "        #REA.do(\"step\", FED.get(\"interest_rate\")[0])\n",
    "        #REA.do(\"print_cost_house\")\n",
    "    \n",
    "    \n",
    "    def printing(self):\n",
    "\n",
    "        #printen profits van banken met verandering in bank door actie change profits\n",
    "        bank = self.agents.select(agent_type = Bank_Agent)\n",
    "        fed = self.agents.select(agent_type = FED_Agent)\n",
    "        print(bank.get(\"profit_precentage\"))\n",
    "        bank.do(\"change_profits\", fed.get(\"interest_rate\")[0] / 3)\n",
    "        bank.do(\"print_profits\")\n",
    "\n",
    "        #printen van alle parameters\n",
    "        for a in self.agents:\n",
    "            keys = list(a.__dict__.keys())\n",
    "            keys = [keys[i] for i in range(len(keys)) if i >=3]\n",
    "            for key in keys:\n",
    "                print(key, '=', a.__dict__[key])"
   ]
  },
  {
   "cell_type": "code",
   "execution_count": 6,
   "metadata": {},
   "outputs": [
    {
     "name": "stdout",
     "output_type": "stream",
     "text": [
      "[0]\n",
      "Profit is: 1.5833333333333333\n",
      "interest_rate = 4.75\n",
      "money_in_banks = 100\n",
      "profit_precentage = 1.5833333333333333\n",
      "change_in_energy_price = 0\n",
      "avarege_cost_house = 250000\n",
      "mortage_rate = 4.75\n",
      "avarege_cost_mortage = 11875.0\n",
      "new_houses = 0\n",
      "house_buyers = 100\n"
     ]
    }
   ],
   "source": [
    "#running model\n",
    "starter_model = Model1(10)\n",
    "# printen van alle parameters\n",
    "for _ in range(1):\n",
    "    starter_model.printing()"
   ]
  },
  {
   "cell_type": "code",
   "execution_count": 7,
   "metadata": {},
   "outputs": [
    {
     "name": "stdout",
     "output_type": "stream",
     "text": [
      "cost of house = 249900\n",
      "cost of house = 249800\n",
      "cost of house = 249700\n",
      "cost of house = 249600\n",
      "cost of house = 249500\n",
      "cost of house = 249400\n",
      "cost of house = 249300\n",
      "cost of house = 249200\n",
      "cost of house = 249100\n",
      "cost of house = 249000\n"
     ]
    }
   ],
   "source": [
    "#10 stappen in house market en printen van kosten van een gemiddeld huis.\n",
    "for _ in range(10):\n",
    "    starter_model.house_market_step()"
   ]
  },
  {
   "cell_type": "code",
   "execution_count": 8,
   "metadata": {},
   "outputs": [],
   "source": [
    "from mesa import DataCollector"
   ]
  },
  {
   "cell_type": "code",
   "execution_count": null,
   "metadata": {},
   "outputs": [
    {
     "data": {
      "image/png": "[encoded data removed]",
      "text/plain": [
       "<Figure size 1000x800 with 3 Axes>"
      ]
     },
     "metadata": {},
     "output_type": "display_data"
    }
   ],
   "source": [
    "#poging 2 -> is meer een echt agent based model\n",
    "\n",
    "#update plan:\n",
    "#Elke beurt toevoegen:\n",
    "#   Kleine hoeveelheid nieuwe kopers, die per beurt constant is. -> Kan evt gebasseeerd worden op groei US bevolking en dan een verhouding pakken.\n",
    "#   Kleine hoeveelheid nieuwe huizen, die afhankelijk is van interest rates. Hogere interest rates -> lenen duurder -> minder huizen. \n",
    "import matplotlib.pyplot as plt\n",
    "import numpy as np\n",
    "from mesa import Agent, Model\n",
    "from mesa.datacollection import DataCollector\n",
    "\n",
    "class BuyerAgent(Agent):\n",
    "    def __init__(self, model, interest_rate):\n",
    "        super().__init__(model)\n",
    "        # interest rates zorgen ervoo dat financieren huis moeilijker wordt dus gaat budget omlaag op basis van interest rate\n",
    "        self.budget = int(np.random.randint(100000, 600000) * (1 - interest_rate / 100))\n",
    "        self.house_bought = False\n",
    "\n",
    "    def find_seller(self, model):\n",
    "        if self.house_bought == False:\n",
    "            sellers = [agent for agent in model.agents if isinstance(agent, SellerAgent) and not agent.house_sold]\n",
    "            affordable_sellers = [seller for seller in sellers if seller.cost <= self.budget]\n",
    "            if affordable_sellers:\n",
    "                chosen_seller = self.random.choice(affordable_sellers)\n",
    "                self.house_bought = True\n",
    "                chosen_seller.house_sold = True\n",
    "                model.sales.append(chosen_seller.cost)\n",
    "\n",
    "\n",
    "class SellerAgent(Agent):\n",
    "    def __init__(self, model):\n",
    "        super().__init__(model)\n",
    "        self.cost = np.random.randint(100000, 600000)\n",
    "        self.orig_cost = self.cost\n",
    "        self.house_sold = False\n",
    "\n",
    "    def lower_cost(self):\n",
    "        #Als huis niet verkocht wordt, wordt de prijs verlaagt. Gebeurt tot een waarde van 80 % van orginele kosten.\n",
    "        if self.house_sold == False and self.cost >= self.orig_cost * 0.8:\n",
    "            self.cost = self.cost * 0.9\n",
    "    \n",
    "\n",
    "class House_Model(Model):\n",
    "    def __init__(self, number_of_buyers, number_of_sellers, seed=None, interest_rate=4.75):\n",
    "        super().__init__(seed=seed)\n",
    "        self.num_buyers = number_of_buyers\n",
    "        self.num_sellers = number_of_sellers\n",
    "        self.interest_rate = interest_rate\n",
    "        \n",
    "        BuyerAgent.create_agents(self, self.num_buyers, self.interest_rate)\n",
    "        SellerAgent.create_agents(self, self.num_sellers)\n",
    "\n",
    "        # Data collector\n",
    "        self.datacollector = DataCollector(\n",
    "            model_reporters={\n",
    "                \"Average Sale Price\": self.compute_avg_sale_price,\n",
    "                \"Unsold Houses\": self.compute_unsold_inventory,\n",
    "                \"Searching house buyers\": self.compute_num_house_buyers,\n",
    "            },\n",
    "        )\n",
    "\n",
    "        self.sales = []\n",
    "\n",
    "    def step(self):\n",
    "        self.agents.select(agent_type = BuyerAgent).shuffle_do(\"find_seller\", self)\n",
    "        self.lower_prices_not_sold()\n",
    "        self.datacollector.collect(self)\n",
    "    \n",
    "    def lower_prices_not_sold(self):\n",
    "        sellers = [agent for agent in self.agents if isinstance(agent, SellerAgent) and not agent.house_sold]\n",
    "        for seller in sellers:\n",
    "            seller.lower_cost()\n",
    "\n",
    "    def compute_avg_sale_price(self):\n",
    "        if self.sales:\n",
    "            return np.mean(self.sales)  \n",
    "        else:\n",
    "            return 0\n",
    "\n",
    "    def compute_unsold_inventory(self):\n",
    "        sellers = [agent for agent in self.agents if isinstance(agent, SellerAgent)]\n",
    "        return sum(1 for seller in sellers if not seller.house_sold)\n",
    "\n",
    "    def compute_num_house_buyers(self):\n",
    "        buyers = [agent for agent in self.agents if isinstance(agent, BuyerAgent)]\n",
    "        return sum(1 for buyer in buyers if not buyer.house_bought)\n",
    "\n",
    "\n",
    "\n",
    "model = House_Model(number_of_buyers=100, number_of_sellers=80, interest_rate=4.0)\n",
    "\n",
    "for i in range(50):\n",
    "    model.step()\n",
    "\n",
    "results = model.datacollector.get_model_vars_dataframe()\n",
    "# print(results)\n",
    "\n",
    "plt.figure(figsize=(10, 8))\n",
    "\n",
    "plt.subplot(311)\n",
    "plt.plot(results['Average Sale Price'], label='Average Sale Price')\n",
    "plt.xlabel('Step')\n",
    "plt.ylabel('Avg Sale Price')\n",
    "plt.legend()\n",
    "\n",
    "plt.subplot(312)\n",
    "plt.plot(results['Unsold Houses'], label='Unsold Houses')\n",
    "plt.xlabel('Step')\n",
    "plt.ylabel('Unsold Houses')\n",
    "plt.legend()\n",
    "\n",
    "plt.subplot(313)\n",
    "plt.plot(results['Searching house buyers'], label='Searching house buyers')\n",
    "plt.xlabel('Step')\n",
    "plt.ylabel('Searching house buyers')\n",
    "plt.legend()\n",
    "\n",
    "plt.show()\n"
   ]
  },
  {
   "cell_type": "code",
   "execution_count": null,
   "metadata": {},
   "outputs": [],
   "source": []
  }
 ],
 "metadata": {
  "kernelspec": {
   "display_name": "base",
   "language": "python",
   "name": "python3"
  },
  "language_info": {
   "codemirror_mode": {
    "name": "ipython",
    "version": 3
   },
   "file_extension": ".py",
   "mimetype": "text/x-python",
   "name": "python",
   "nbconvert_exporter": "python",
   "pygments_lexer": "ipython3",
   "version": "3.12.3"
  }
 },
 "nbformat": 4,
 "nbformat_minor": 2
}
