{
 "cells": [
  {
   "cell_type": "markdown",
   "metadata": {},
   "source": [
    "Test"
   ]
  },
  {
   "cell_type": "code",
   "execution_count": 10,
   "metadata": {},
   "outputs": [],
   "source": [
    "import numpy as np\n",
    "\n",
    "assert np.array([1,2,3])@np.array([1,2,3]) == 14, 'Math is not mathing'"
   ]
  },
  {
   "cell_type": "code",
   "execution_count": 11,
   "metadata": {},
   "outputs": [
    {
     "name": "stdout",
     "output_type": "stream",
     "text": [
      "hallo wereld\n"
     ]
    }
   ],
   "source": [
    "print(\"hallo wereld\")"
   ]
  },
  {
   "cell_type": "code",
   "execution_count": 12,
   "metadata": {},
   "outputs": [],
   "source": [
    "from mesa import Agent\n",
    "from mesa import Model"
   ]
  },
  {
   "cell_type": "code",
   "execution_count": 269,
   "metadata": {},
   "outputs": [],
   "source": [
    "#https://mesa.readthedocs.io/stable/tutorials/intro_tutorial.html\n",
    "\n",
    "class FED_Agent(Agent):\n",
    "    \"\"\"Agent that models the FED (Central bank of US)\"\"\"\n",
    "\n",
    "    def __init__(self, model):\n",
    "        super().__init__(model)\n",
    "        self.interest_rate = 4.75 #current\n",
    "\n",
    "    #test print uit tutorial\n",
    "    def print_func(self):\n",
    "        print(f\"The interest rate = {str(self.interest_rate)}. ID = {str(self.unique_id)}.\")\n",
    "\n",
    "class Bank_Agent(Agent):\n",
    "    \"\"\"Agent that models the banks\"\"\"\n",
    "    def __init__(self, model):\n",
    "        super().__init__(model)\n",
    "        self.money_in_banks = 100 #in trillions oid.\n",
    "        self.profit_precentage = 0 \n",
    "\n",
    "    def print_money_in_bank(self):\n",
    "        print(f\"Money in Bank is: {self.money_in_banks}\")\n",
    "\n",
    "    def print_profits(self):\n",
    "        print(f\"Profit is: {self.profit_precentage}\")\n",
    "\n",
    "    def change_profits(self, num):\n",
    "        self.profit_precentage = num\n",
    "\n",
    "class Energy_Sector_Agent(Agent):\n",
    "    \"\"\"Agent that models the energy sector\"\"\"\n",
    "    def __init__(self, model):\n",
    "        super().__init__(model)\n",
    "        self.change_in_energy_price = 0\n",
    "\n",
    "class Real_Estat_Agent(Agent):\n",
    "    def __init__(self, model, avarege_cost_house = 250000, mortage_rate = 4.75, new_houses = 0, house_buyers = 100):\n",
    "        super().__init__(model)\n",
    "        self.avarege_cost_house = avarege_cost_house\n",
    "        self.mortage_rate = mortage_rate\n",
    "        self.avarege_cost_mortage = mortage_rate / 100 * avarege_cost_house\n",
    "        self.new_houses = new_houses\n",
    "        self.house_buyers = house_buyers\n",
    "\n",
    "    def print_cost_house(self):\n",
    "        print(f\"cost of house = {self.avarege_cost_house}\")\n",
    "\n",
    "    def step(self, interest_rate):\n",
    "        #zet stap door alleen te kijken naar interest rate en op basis daarvan hoeveelheid nieuwe huizen gebouwd.\n",
    "        if interest_rate <= 0:\n",
    "            self.new_houses = 110 #interest rate van 0 -> goedkoop lenen, dus huizen bouwen met geleend geld is goedkoper dus meer huizen gebouwd dan vraag naar huizen is.\n",
    "        else:\n",
    "            self.new_houses = 110 - (interest_rate * 3) # higher interest rate = more costs lending = more costs houses = less houses build\n",
    "            #interest rate * 3 is op weinig gebasseerd\n",
    "        shortage_houses = int(self.house_buyers - self.new_houses)\n",
    "        self.avarege_cost_house += 100 * shortage_houses\n",
    "\n",
    "        \n",
    "class Model1(Model):\n",
    "    \"\"\"Model for attempt 1.\"\"\"\n",
    "\n",
    "    def __init__(self, n, seed=None):\n",
    "        super().__init__(seed=seed)\n",
    "        self.num_agents = n\n",
    "\n",
    "        FED_Agent.create_agents(model = self, n = 1)\n",
    "        Bank_Agent.create_agents(model = self, n = 1)\n",
    "        Energy_Sector_Agent.create_agents(model = self, n = 1)\n",
    "        Real_Estat_Agent.create_agents(model = self, n = 1)\n",
    "\n",
    "    def house_market_step(self):\n",
    "        #ga 1 stap verder in model voor alleen house market\n",
    "\n",
    "        REA = self.agents.select(agent_type = Real_Estat_Agent)\n",
    "        REA.do(\"step\", 3)\n",
    "        REA.do(\"print_cost_house\")\n",
    "\n",
    "        #voor pakken interest rate uit FED\n",
    "\n",
    "        #FED = self.agents.select(agent_type = FED_Agent)\n",
    "        #REA.do(\"step\", FED.get(\"interest_rate\")[0])\n",
    "        #REA.do(\"print_cost_house\")\n",
    "    \n",
    "    \n",
    "    def printing(self):\n",
    "\n",
    "        #printen profits van banken met verandering in bank door actie change profits\n",
    "        bank = self.agents.select(agent_type = Bank_Agent)\n",
    "        fed = self.agents.select(agent_type = FED_Agent)\n",
    "        print(bank.get(\"profit_precentage\"))\n",
    "        bank.do(\"change_profits\", fed.get(\"interest_rate\")[0] / 3)\n",
    "        bank.do(\"print_profits\")\n",
    "\n",
    "        #printen van alle parameters\n",
    "        for a in self.agents:\n",
    "            keys = list(a.__dict__.keys())\n",
    "            keys = [keys[i] for i in range(len(keys)) if i >=3]\n",
    "            for key in keys:\n",
    "                print(key, '=', a.__dict__[key])"
   ]
  },
  {
   "cell_type": "code",
   "execution_count": 270,
   "metadata": {},
   "outputs": [
    {
     "name": "stdout",
     "output_type": "stream",
     "text": [
      "[0]\n",
      "Profit is: 1.5833333333333333\n",
      "interest_rate = 4.75\n",
      "money_in_banks = 100\n",
      "profit_precentage = 1.5833333333333333\n",
      "change_in_energy_price = 0\n",
      "avarege_cost_house = 250000\n",
      "mortage_rate = 4.75\n",
      "avarege_cost_mortage = 11875.0\n",
      "new_houses = 0\n",
      "house_buyers = 100\n"
     ]
    }
   ],
   "source": [
    "#running model\n",
    "starter_model = Model1(10)\n",
    "# printen van alle parameters\n",
    "for _ in range(1):\n",
    "    starter_model.printing()"
   ]
  },
  {
   "cell_type": "code",
   "execution_count": 271,
   "metadata": {},
   "outputs": [
    {
     "name": "stdout",
     "output_type": "stream",
     "text": [
      "cost of house = 249900\n",
      "cost of house = 249800\n",
      "cost of house = 249700\n",
      "cost of house = 249600\n",
      "cost of house = 249500\n",
      "cost of house = 249400\n",
      "cost of house = 249300\n",
      "cost of house = 249200\n",
      "cost of house = 249100\n",
      "cost of house = 249000\n"
     ]
    }
   ],
   "source": [
    "#10 stappen in house market en printen van kosten van een gemiddeld huis.\n",
    "for _ in range(10):\n",
    "    starter_model.house_market_step()"
   ]
  },
  {
   "cell_type": "code",
   "execution_count": 272,
   "metadata": {},
   "outputs": [
    {
     "name": "stdout",
     "output_type": "stream",
     "text": [
      "cost of house = 248900\n",
      "cost of house = 248800\n",
      "cost of house = 248700\n",
      "cost of house = 248600\n",
      "cost of house = 248500\n",
      "cost of house = 248400\n",
      "cost of house = 248300\n",
      "cost of house = 248200\n",
      "cost of house = 248100\n",
      "cost of house = 248000\n"
     ]
    }
   ],
   "source": []
  },
  {
   "cell_type": "code",
   "execution_count": null,
   "metadata": {},
   "outputs": [],
   "source": []
  },
  {
   "cell_type": "code",
   "execution_count": null,
   "metadata": {},
   "outputs": [],
   "source": []
  }
 ],
 "metadata": {
  "kernelspec": {
   "display_name": "Python 3",
   "language": "python",
   "name": "python3"
  },
  "language_info": {
   "codemirror_mode": {
    "name": "ipython",
    "version": 3
   },
   "file_extension": ".py",
   "mimetype": "text/x-python",
   "name": "python",
   "nbconvert_exporter": "python",
   "pygments_lexer": "ipython3",
   "version": "3.11.0"
  }
 },
 "nbformat": 4,
 "nbformat_minor": 2
}
