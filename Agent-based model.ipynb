{
 "cells": [
  {
   "cell_type": "markdown",
   "metadata": {},
   "source": [
    "Test"
   ]
  },
  {
   "cell_type": "code",
   "execution_count": 10,
   "metadata": {},
   "outputs": [],
   "source": [
    "import numpy as np\n",
    "\n",
    "assert np.array([1,2,3])@np.array([1,2,3]) == 14, 'Math is not mathing'"
   ]
  },
  {
   "cell_type": "code",
   "execution_count": 11,
   "metadata": {},
   "outputs": [
    {
     "name": "stdout",
     "output_type": "stream",
     "text": [
      "hallo wereld\n"
     ]
    }
   ],
   "source": [
    "print(\"hallo wereld\")"
   ]
  },
  {
   "cell_type": "code",
   "execution_count": 12,
   "metadata": {},
   "outputs": [],
   "source": [
    "from mesa import Agent\n",
    "from mesa import Model"
   ]
  },
  {
   "cell_type": "code",
   "execution_count": null,
   "metadata": {},
   "outputs": [],
   "source": [
    "#https://mesa.readthedocs.io/stable/tutorials/intro_tutorial.html\n",
    "\n",
    "class FED_Agent(Agent):\n",
    "    \"\"\"Agent that models the FED (Central bank of US)\"\"\"\n",
    "\n",
    "    def __init__(self, model):\n",
    "        super().__init__(model)\n",
    "        self.interest_rate = 4.75 #current\n",
    "\n",
    "    def print_func(self):\n",
    "        print(f\"The interest rate = {str(self.interest_rate)}. ID = {str(self.unique_id)}.\")\n",
    "\n",
    "class Bank_Agent(Agent):\n",
    "    \"\"\"Agent that models the banks\"\"\"\n",
    "    def __init__(self, model):\n",
    "        super().__init__(model)\n",
    "        self.profit = 0\n",
    "\n",
    "class energy_sector(Agent):\n",
    "    \"\"\"Agent that models the energy sector\"\"\"\n",
    "\n",
    "class Model1(Model):\n",
    "    \"\"\"Model for attempt 1.\"\"\"\n",
    "\n",
    "    def __init__(self, n, seed=None):\n",
    "        super().__init__(seed=seed)\n",
    "        self.num_agents = n\n",
    "\n",
    "        FED_Agent.create_agents(model=self, n=1)\n",
    "        Bank_Agent.create_agents(model=self, n = 1)\n",
    "\n",
    "    def step(self):\n",
    "        \"\"\"Advance the model by one step.\"\"\"\n",
    "        self.agents.shuffle_do(\"print_func\")"
   ]
  },
  {
   "cell_type": "code",
   "execution_count": 17,
   "metadata": {},
   "outputs": [
    {
     "name": "stdout",
     "output_type": "stream",
     "text": [
      "The interest rate = 4.75. ID = 1.\n"
     ]
    }
   ],
   "source": [
    "starter_model = Model1(10)\n",
    "starter_model.step()"
   ]
  }
 ],
 "metadata": {
  "kernelspec": {
   "display_name": "Python 3",
   "language": "python",
   "name": "python3"
  },
  "language_info": {
   "codemirror_mode": {
    "name": "ipython",
    "version": 3
   },
   "file_extension": ".py",
   "mimetype": "text/x-python",
   "name": "python",
   "nbconvert_exporter": "python",
   "pygments_lexer": "ipython3",
   "version": "3.11.0"
  }
 },
 "nbformat": 4,
 "nbformat_minor": 2
}
