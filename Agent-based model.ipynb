{
 "cells": [
  {
   "cell_type": "markdown",
   "metadata": {},
   "source": [
    "Test"
   ]
  },
  {
   "cell_type": "code",
   "execution_count": 10,
   "metadata": {},
   "outputs": [],
   "source": [
    "import numpy as np\n",
    "\n",
    "assert np.array([1,2,3])@np.array([1,2,3]) == 14, 'Math is not mathing'"
   ]
  },
  {
   "cell_type": "code",
   "execution_count": 11,
   "metadata": {},
   "outputs": [
    {
     "name": "stdout",
     "output_type": "stream",
     "text": [
      "hallo wereld\n"
     ]
    }
   ],
   "source": [
    "print(\"hallo wereld\")"
   ]
  },
  {
   "cell_type": "code",
   "execution_count": 12,
   "metadata": {},
   "outputs": [],
   "source": [
    "from mesa import Agent\n",
    "from mesa import Model"
   ]
  },
  {
   "cell_type": "code",
   "execution_count": 134,
   "metadata": {},
   "outputs": [],
   "source": [
    "#https://mesa.readthedocs.io/stable/tutorials/intro_tutorial.html\n",
    "\n",
    "class FED_Agent(Agent):\n",
    "    \"\"\"Agent that models the FED (Central bank of US)\"\"\"\n",
    "\n",
    "    def __init__(self, model):\n",
    "        super().__init__(model)\n",
    "        self.interest_rate = 4.75 #current\n",
    "\n",
    "    #test print uit tutorial\n",
    "    def print_func(self):\n",
    "        print(f\"The interest rate = {str(self.interest_rate)}. ID = {str(self.unique_id)}.\")\n",
    "\n",
    "class Bank_Agent(Agent):\n",
    "    \"\"\"Agent that models the banks\"\"\"\n",
    "    def __init__(self, model):\n",
    "        super().__init__(model)\n",
    "        self.money_in_banks = 100 #in trillions oid.\n",
    "        self.profit_precentage = 0 \n",
    "\n",
    "class Energy_Sector_Agent(Agent):\n",
    "    \"\"\"Agent that models the energy sector\"\"\"\n",
    "    def __init__(self, model):\n",
    "        super().__init__(model)\n",
    "        self.change_in_energy_price = 0\n",
    "\n",
    "class Real_Estat_Agent(Agent):\n",
    "    def __init__(self, model, avarege_cost_house = 250000):\n",
    "        super().__init__(model)\n",
    "        self.avarege_cost_house = avarege_cost_house\n",
    "        \n",
    "class Model1(Model):\n",
    "    \"\"\"Model for attempt 1.\"\"\"\n",
    "\n",
    "    def __init__(self, n, seed=None):\n",
    "        super().__init__(seed=seed)\n",
    "        self.num_agents = n\n",
    "\n",
    "        FED_Agent.create_agents(model = self, n = 1)\n",
    "        Bank_Agent.create_agents(model = self, n = 1)\n",
    "        Energy_Sector_Agent.create_agents(model = self, n = 1)\n",
    "        Real_Estat_Agent.create_agents(model = self, n = 1)\n",
    "\n",
    "    def step(self):\n",
    "        \"\"\"Advance the model by one step.\"\"\"\n",
    "\n",
    "        #printen van parameters\n",
    "        for a in self.agents:\n",
    "            keys = list(a.__dict__.keys())\n",
    "            keys = [keys[i] for i in range(len(keys)) if i >=3]\n",
    "            for key in keys:\n",
    "                print(key, '=', a.__dict__[key])"
   ]
  },
  {
   "cell_type": "code",
   "execution_count": 135,
   "metadata": {},
   "outputs": [
    {
     "name": "stdout",
     "output_type": "stream",
     "text": [
      "interest_rate = 4.75\n",
      "money_in_banks = 100\n",
      "profit_precentage = 0\n",
      "change_in_energy_price = 0\n",
      "avarege_cost_house = 250000\n"
     ]
    }
   ],
   "source": [
    "#running model\n",
    "starter_model = Model1(10)\n",
    "# 1 step\n",
    "for _ in range(1):\n",
    "    starter_model.step()"
   ]
  },
  {
   "cell_type": "code",
   "execution_count": null,
   "metadata": {},
   "outputs": [],
   "source": []
  }
 ],
 "metadata": {
  "kernelspec": {
   "display_name": "Python 3",
   "language": "python",
   "name": "python3"
  },
  "language_info": {
   "codemirror_mode": {
    "name": "ipython",
    "version": 3
   },
   "file_extension": ".py",
   "mimetype": "text/x-python",
   "name": "python",
   "nbconvert_exporter": "python",
   "pygments_lexer": "ipython3",
   "version": "3.11.0"
  }
 },
 "nbformat": 4,
 "nbformat_minor": 2
}
